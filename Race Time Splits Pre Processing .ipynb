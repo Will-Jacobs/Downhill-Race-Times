{
 "cells": [
  {
   "cell_type": "code",
   "execution_count": 4,
   "id": "00e09645",
   "metadata": {},
   "outputs": [],
   "source": [
    "import numpy as np\n",
    "import pandas as pd\n",
    "import matplotlib.pyplot as plt\n",
    "import chardet"
   ]
  },
  {
   "cell_type": "code",
   "execution_count": 206,
   "id": "563a5d5f",
   "metadata": {},
   "outputs": [
    {
     "data": {
      "text/plain": [
       "array([[1.00000e+00, 6.00000e+00,         nan, ...,         nan,\n",
       "        0.00000e+00, 2.00000e+02],\n",
       "       [2.00000e+00, 1.40000e+01,         nan, ...,         nan,\n",
       "        8.47000e-01, 1.60000e+02],\n",
       "       [3.00000e+00, 1.00000e+00,         nan, ...,         nan,\n",
       "        1.08600e+00, 1.40000e+02],\n",
       "       ...,\n",
       "       [5.80000e+01, 3.40000e+01,         nan, ...,         nan,\n",
       "        3.91000e+01, 3.00000e+00],\n",
       "       [5.90000e+01, 2.00000e+00,         nan, ...,         nan,\n",
       "        5.68730e+01, 2.00000e+00],\n",
       "       [6.00000e+01, 6.00000e+01,         nan, ...,         nan,\n",
       "        1.01588e-03, 1.00000e+00]])"
      ]
     },
     "execution_count": 206,
     "metadata": {},
     "output_type": "execute_result"
    }
   ],
   "source": [
    "# Load data from csv file (not the header)\n",
    "race_data_22 = np.genfromtxt('2022 Lourdes Mens Elite Times.csv', \n",
    "                             delimiter = ',', \n",
    "                             skip_header = 1, \n",
    "                             autostrip = True,)\n",
    "# View the data\n",
    "race_data_22"
   ]
  },
  {
   "cell_type": "code",
   "execution_count": 207,
   "id": "17fc24b5",
   "metadata": {},
   "outputs": [
    {
     "data": {
      "text/plain": [
       "array(['Position', 'World Ranking', 'Name', 'Team', 'UCI Number',\n",
       "       'Nationality', 'YOB', 'Speed', 'Speed Ranking', 'Split 1',\n",
       "       'Split 1 pos', 'Split 2', 'Split 2 pos', 'Split 3', 'Split 3 pos',\n",
       "       'Split 4', 'Split 4 pos', 'Time', 'TOW', 'Points'], dtype='<U13')"
      ]
     },
     "execution_count": 207,
     "metadata": {},
     "output_type": "execute_result"
    }
   ],
   "source": [
    "# Load the top row (headers) of the data as strings and display them\n",
    "header_main = np.genfromtxt('2022 Lourdes Mens Elite Times.csv', \n",
    "                            delimiter = ',', \n",
    "                            skip_footer = race_data_22.shape[0], \n",
    "                            dtype = str)\n",
    "header_main"
   ]
  },
  {
   "cell_type": "code",
   "execution_count": 208,
   "id": "e3c69229",
   "metadata": {},
   "outputs": [
    {
     "name": "stderr",
     "output_type": "stream",
     "text": [
      "C:\\Users\\User\\AppData\\Local\\Temp\\ipykernel_3428\\3870812336.py:2: RuntimeWarning: Mean of empty slice\n",
      "  temporary_mean = np.nanmean(race_data_22, axis = 0)\n"
     ]
    }
   ],
   "source": [
    "# Create a temporary_mean variable that stores the nanmean of each column\n",
    "temporary_mean = np.nanmean(race_data_22, axis = 0)"
   ]
  },
  {
   "cell_type": "code",
   "execution_count": 209,
   "id": "8d4b4362",
   "metadata": {},
   "outputs": [
    {
     "data": {
      "text/plain": [
       "array([ 2,  3,  5,  9, 11, 13, 15, 17], dtype=int64)"
      ]
     },
     "execution_count": 209,
     "metadata": {},
     "output_type": "execute_result"
    }
   ],
   "source": [
    "# Stores the index values from the temporary_mean array where the value is 'nan'. \n",
    "# This represents the index of the column which stores string data in the main data set\n",
    "column_strings = np.argwhere(np.isnan(temporary_mean)).squeeze()\n",
    "column_strings"
   ]
  },
  {
   "cell_type": "code",
   "execution_count": 210,
   "id": "4de47476",
   "metadata": {},
   "outputs": [
    {
     "data": {
      "text/plain": [
       "array([ 0,  1,  4,  6,  7,  8, 10, 12, 14, 16, 18, 19], dtype=int64)"
      ]
     },
     "execution_count": 210,
     "metadata": {},
     "output_type": "execute_result"
    }
   ],
   "source": [
    "# Stores the index values from the temporary_mean array where the value is not 'nan'. \n",
    "# This represents the index of the column which stores numeric data in the main data set\n",
    "column_numeric = np.argwhere(np.isnan(temporary_mean) == False).squeeze()\n",
    "column_numeric"
   ]
  },
  {
   "cell_type": "code",
   "execution_count": 211,
   "id": "9d8cf1c9",
   "metadata": {},
   "outputs": [],
   "source": [
    "# Load only the columns containing strings from the csv file (not headers)\n",
    "race_data_string_22 = np.genfromtxt('2022 Lourdes Mens Elite Times.csv',\n",
    "                                     delimiter = ',',\n",
    "                                     skip_header = 1,\n",
    "                                     usecols = column_strings,\n",
    "                                     autostrip = True,\n",
    "                                     dtype = str,\n",
    "                                     filling_values = 'N/A')"
   ]
  },
  {
   "cell_type": "code",
   "execution_count": 212,
   "id": "1a08681e",
   "metadata": {},
   "outputs": [
    {
     "data": {
      "text/plain": [
       "array(['Name', 'Team', 'Nationality', 'Split 1', 'Split 2', 'Split 3',\n",
       "       'Split 4', 'Time'], dtype='<U11')"
      ]
     },
     "execution_count": 212,
     "metadata": {},
     "output_type": "execute_result"
    }
   ],
   "source": [
    "# Load only the headers of the columns containing strings data into a seperate variable\n",
    "header_strings = np.genfromtxt('2022 Lourdes Mens Elite Times.csv',\n",
    "                               delimiter = ',',\n",
    "                               skip_footer = race_data_22.shape[0],\n",
    "                               usecols = column_strings,\n",
    "                               dtype = str)\n",
    "header_strings"
   ]
  },
  {
   "cell_type": "code",
   "execution_count": 213,
   "id": "7c671f15",
   "metadata": {},
   "outputs": [
    {
     "data": {
      "text/plain": [
       "array([( 1,   6, 10008827283, 1996, 60.335, 11,  1,  7,  1),\n",
       "       ( 2,  14, 10090907774, 1999, 59.081, 21,  2,  1,  2),\n",
       "       ( 3,   1, 10007544358, 1994, 58.824, 25,  4,  3,  3),\n",
       "       ( 4,   8, 10008194359, 1994, 59.081, 21,  7,  5,  6),\n",
       "       ( 5,  17, 10008813442, 1996, 61.224,  3,  6,  4,  4),\n",
       "       ( 6,   9, 10005470073, 1991, 60.067, 14, 21, 12,  7),\n",
       "       ( 7,   5, 10009563271, 1996, 60.335, 11,  9,  6,  5),\n",
       "       ( 8,   7, 10009404738, 1997, 58.127, 36,  8,  9,  8),\n",
       "       ( 9,  64, 10070590924, 2001, 57.878, 40, 14, 15,  9),\n",
       "       (10,   1, 10011016756, 1999, 61.714,  2, 15, 11, 10),\n",
       "       (11,   1, 10010038167, 1992, 61.155,  4, 23, 21, 12),\n",
       "       (12,   3, 10008723112, 1996, 59.081, 21,  3,  2, 14),\n",
       "       (13,  30, 10023896336, 2000, 58.065, 38, 34, 24, 18),\n",
       "       (14,   1, 10008831529, 1995, 58.315, 33, 19, 17, 16),\n",
       "       (15,   2, 10011213584, 1999, 59.276, 20, 11, 13, 13),\n",
       "       (16,   1, 10002818640, 1981, 58.315, 33, 13, 19, 17),\n",
       "       (17, 109, 10016018118, 1999, 58.065, 38, 27, 16, 11),\n",
       "       (18,   1, 10007713403, 1994, 58.824, 25, 22, 25, 26),\n",
       "       (19,  93, 10008728667, 1996, 56.426, 51, 48, 43, 27),\n",
       "       (20,  22, 10006413094, 1991, 58.824, 25, 20, 14, 15),\n",
       "       (21,  53, 10049212326, 2002, 60.403, 10, 30, 27, 20),\n",
       "       (22,  21, 10009187092, 1996, 58.568, 31, 32, 23, 23),\n",
       "       (23,  23, 10009897014, 1998, 57.878, 40, 24, 26, 22),\n",
       "       (24,   1, 10008586504, 1993, 56.191, 53, 33, 22, 25),\n",
       "       (25,  31, 10008831731, 1996, 59.801, 18, 12, 18, 21),\n",
       "       (26,  24, 10008103322, 1995, 60.674,  7, 10, 10, 24),\n",
       "       (27,  40, 10009453642, 1997, 60.067, 14, 38, 34, 30),\n",
       "       (28,  51, 10008848505, 1996, 58.824, 25, 39, 29, 28),\n",
       "       (29,  43, 10007656314, 1994, 60.606,  9, 17, 20, 19),\n",
       "       (30, 118, 10007714413, 1994, 61.998,  1, 25, 32, 33),\n",
       "       (31,  97, 10061876381, 2003, 58.127, 36, 28, 30, 29),\n",
       "       (32, 143, 10009562968, 1996, 59.081, 21, 41, 38, 31),\n",
       "       (33,  75, 10006516663, 1987, 60.879,  6, 29, 33, 34),\n",
       "       (34,   1, 10005415715, 1990, 58.568, 31, 52, 35, 39),\n",
       "       (35, 145, 10009443942, 1997, 60.067, 14, 46, 44, 37),\n",
       "       (36, 102, 10071553749, 2002, 61.155,  4, 49, 40, 38),\n",
       "       (37,  92, 10009164258, 1994, 57.816, 43, 47, 42, 32),\n",
       "       (38,  35, 10006909111, 1992, 58.824, 25, 45, 46, 45),\n",
       "       (39,  89, 10017486353, 2003, 56.902, 49, 42, 39, 41),\n",
       "       (40,   1, 10008172636, 1995, 58.315, 33, 50, 41, 40),\n",
       "       (41,  27, 10006429969, 1991, 59.801, 18, 31, 28, 36),\n",
       "       (42,  45, 10087908151, 2002, 56.426, 51, 44, 47, 42),\n",
       "       (43,  71, 10078163590, 2002, 57.569, 47, 35, 48, 43),\n",
       "       (44,  37, 10088103464, 2002, 57.878, 40, 43, 45, 44),\n",
       "       (45,  41, 10071893653, 2002, 58.824, 25, 37, 36, 48),\n",
       "       (46,  50, 10056657377, 2002, 57.816, 43, 56, 50, 47),\n",
       "       (47,  55, 10009533464, 1997, 60.674,  7, 53, 49, 46),\n",
       "       (48,  54, 10005560003, 1989, 60.134, 13, 55, 53, 49),\n",
       "       (49, 125, 10074421616, 2003, 55.498, 55, 51, 51, 51),\n",
       "       (50,  62, 10008169808, 1995, 57.816, 43, 54, 52, 50),\n",
       "       (51, 126, 10006576176, 1988, 56.902, 49, 57, 54, 53),\n",
       "       (52,  44, 10023865620, 2001, 57.631, 46, 36, 56, 54),\n",
       "       (53, 121, 10009453945, 1997, 60.067, 14, 59, 57, 55),\n",
       "       (54,  28, 10010022205, 1995, 56.191, 53, 60, 58, 56),\n",
       "       (55,  63, 10054661096, 2002, 54.878, 56, 18, 37, 57),\n",
       "       (56,  69, 10079233725, 2003, 30.647, 60, 40, 31, 35),\n",
       "       (57,  39, 10111341129, 2000, 48.693, 59, 26, 55, 52),\n",
       "       (58,  34, 10009645925, 1997, 57.143, 48, 16, 60, 59),\n",
       "       (59,   2, 10072798480, 2001, 52.529, 57,  5,  8, 58),\n",
       "       (60,  60, 10003642635, 1988, 49.18 , 58, 58, 59, 60)],\n",
       "      dtype=[('f0', '<i4'), ('f1', '<i4'), ('f2', '<i8'), ('f3', '<i4'), ('f4', '<f8'), ('f5', '<i4'), ('f6', '<i4'), ('f7', '<i4'), ('f8', '<i4')])"
      ]
     },
     "execution_count": 213,
     "metadata": {},
     "output_type": "execute_result"
    }
   ],
   "source": [
    "# Load only the columns containing numeric data into a seperate variable\n",
    "race_data_numeric_22 = np.genfromtxt('2022 Lourdes Mens Elite Times.csv',\n",
    "                                     delimiter = ',',\n",
    "                                     skip_header = 1,\n",
    "                                     usecols = column_numeric,\n",
    "                                     autostrip = True,\n",
    "                                     filling_values = temporary_fill,\n",
    "                                     dtype = [int]*2 + [np.int64] + [int] + [float] + [int]*4)\n",
    "race_data_numeric_22"
   ]
  },
  {
   "cell_type": "code",
   "execution_count": 214,
   "id": "a0412dfe",
   "metadata": {},
   "outputs": [
    {
     "data": {
      "text/plain": [
       "array(['Position', 'World Ranking', 'UCI Number', 'YOB', 'Speed',\n",
       "       'Speed Ranking', 'Split 1 pos', 'Split 2 pos', 'Split 3 pos',\n",
       "       'Split 4 pos', 'TOW', 'Points'], dtype='<U13')"
      ]
     },
     "execution_count": 214,
     "metadata": {},
     "output_type": "execute_result"
    }
   ],
   "source": [
    "# Load only the header of the columns containing numeric data into a seperate variable\n",
    "header_numeric = np.genfromtxt('2022 Lourdes Mens Elite Times.csv',\n",
    "                               delimiter = ',',\n",
    "                               skip_footer = race_data_22.shape[0],\n",
    "                               usecols = column_numeric,\n",
    "                               dtype = str)\n",
    "header_numeric"
   ]
  },
  {
   "cell_type": "code",
   "execution_count": 215,
   "id": "b8437cff",
   "metadata": {},
   "outputs": [
    {
     "data": {
      "text/plain": [
       "array([['IERRON Amaury', 'COMMENCAL/MUC-OFF BY RIDING', 'FRA',\n",
       "        '0:44.269', '1:17.360', '1:53.519', '2:20.293', '02:47.0'],\n",
       "       ['ILES Finn', 'SPECIALIZED GRAVITY', 'CAN', '0:44.924',\n",
       "        '1:16.398', '1:53.573', '2:20.354', '02:48.0'],\n",
       "       ['BRUNI Loic', 'SPECIALIZED GRAVITY', 'FRA', '0:45.023',\n",
       "        '1:16.676', '1:53.788', '2:20.960', '02:48.0'],\n",
       "       ['COULANGES Benoit', 'DORVAL AM COMMENCAL', 'FRA', '0:45.302',\n",
       "        '1:16.893', '1:54.638', '2:21.349', '02:49.0'],\n",
       "       ['SHAW Luca', 'CANYON COLLECTIVE FACTORY TEAM', 'USA', '0:45.223',\n",
       "        '1:16.795', '1:54.231', '2:21.860', '02:50.0'],\n",
       "       ['HART Danny', 'CUBE FACTORY RACING', 'GBR', '0:46.511',\n",
       "        '1:18.379', '1:54.979', '2:22.370', '02:50.0'],\n",
       "       ['WILSON Reece', 'TREK FACTORY RACING DH', 'GBR', '0:45.689',\n",
       "        '1:17.073', '1:54.377', '2:22.392', '02:51.0'],\n",
       "       ['GREENLAND Laurie', 'SANTA CRUZ SYNDICATE', 'GBR', '0:45.453',\n",
       "        '1:18.220', '1:56.086', '2:23.325', '02:51.0'],\n",
       "       ['VIDAL Antoine', 'COMMENCAL LES ORRES', 'FRA', '0:46.027',\n",
       "        '1:18.853', '1:56.199', '2:23.371', '02:51.0'],\n",
       "       ['WALKER Matt', 'MADISON SARACEN FACTORY TEAM', 'GBR', '0:46.072',\n",
       "        '1:18.374', '1:56.357', '2:23.966', '02:52.0'],\n",
       "       ['NORTON Dakotah', 'INTENSE FACTORY RACING', 'USA', '0:46.652',\n",
       "        '1:19.716', '1:57.219', '2:24.453', '02:52.0'],\n",
       "       ['VERGIER Loris', 'TREK FACTORY RACING DH', 'FRA', '0:45.003',\n",
       "        '1:16.399', '1:57.561', '2:24.706', '02:53.0'],\n",
       "       ['EDWARDS Kade', 'TREK FACTORY RACING DH', 'GBR', '0:47.053',\n",
       "        '1:19.796', '1:58.072', '2:26.002', '02:54.0'],\n",
       "       ['SUAREZ ALONSO Ange', 'COMMENCAL / 100%', 'ESP', '0:46.381',\n",
       "        '1:19.222', '1:57.803', '2:25.928', '02:54.0'],\n",
       "       ['HARTENSTERN Max', 'CUBE FACTORY RACING', 'GER', '0:45.839',\n",
       "        '1:18.516', '1:57.233', '2:25.913', '02:54.0'],\n",
       "       ['MINNAAR Greg', 'SANTA CRUZ SYNDICATE', 'RSA', '0:45.994',\n",
       "        '1:19.277', '1:57.850', '2:26.252', '02:55.0'],\n",
       "       ['FRIXTALON Hugo', 'COMMENCAL / 100%', 'FRA', '0:46.739',\n",
       "        '1:19.186', '1:56.962', '2:26.290', '02:55.0'],\n",
       "       ['TRUMMER David', 'MS MONDRAKER TEAM', 'AUT', '0:46.632',\n",
       "        '1:19.852', '1:58.839', '2:26.901', '02:55.0'],\n",
       "       ['VERNON Taylor', 'SORTED RACEGEAR', 'GBR', '0:47.705',\n",
       "        '1:21.562', '1:59.479', '2:27.393', '02:55.0'],\n",
       "       ['KERR Bernard', 'PIVOT FACTORY RACING', 'GBR', '0:46.435',\n",
       "        '1:18.632', '1:57.740', '2:26.432', '02:55.0'],\n",
       "       ['MEIER-SMITH Luke', 'PROPAIN FACTORY RACING', 'AUS', '0:46.984',\n",
       "        '1:20.048', '1:58.301', '2:26.836', '02:55.0'],\n",
       "       ['KOLB Andreas', 'CONTINENTAL ATHERTON', 'AUT', '0:46.994',\n",
       "        '1:19.757', '1:58.658', '2:26.971', '02:56.0'],\n",
       "       ['HATTON Charlie', 'CONTINENTAL ATHERTON', 'GBR', '0:46.661',\n",
       "        '1:19.947', '1:58.645', '2:26.911', '02:56.0'],\n",
       "       ['IERRON Baptiste', 'DORVAL AM COMMENCAL', 'FRA', '0:47.016',\n",
       "        '1:19.744', '1:58.813', '2:27.133', '02:56.0'],\n",
       "       ['LEVESQUE Dylan', 'SCOTT DOWNHILL FACTORY', 'FRA', '0:45.933',\n",
       "        '1:19.227', '1:58.417', '2:27.941', '02:56.0'],\n",
       "       ['LUCAS Dean', 'SCOTT DOWNHILL FACTORY', 'AUS', '0:45.815',\n",
       "        '1:18.242', '1:58.784', '2:27.890', '02:57.0'],\n",
       "       ['DICKSON Jacob', 'MS MONDRAKER TEAM', 'IRL', '0:47.191',\n",
       "        '1:21.043', '1:59.984', '2:28.116', '02:57.0'],\n",
       "       ['ESTAQUE Thomas', 'COMMENCAL / 100%', 'FRA', '0:47.198',\n",
       "        '1:20.324', '1:59.502', '2:28.182', '02:57.0'],\n",
       "       ['FEARON Connor', 'FORBIDDEN SYNTHESIS TEAM', 'AUS', '0:46.284',\n",
       "        '1:19.309', '1:58.299', '2:27.924', '02:57.0'],\n",
       "       ['CABIROU Rudy', '', 'FRA', '0:46.685', '1:20.823', '2:00.185',\n",
       "        '2:28.697', '02:57.0'],\n",
       "       ['LUFFMAN Dennis', 'CANYON COLLECTIVE FMD', 'GBR', '0:46.905',\n",
       "        '1:20.516', '1:59.874', '2:28.425', '02:57.0'],\n",
       "       ['DAILLY Adrien', '', 'FRA', '0:47.240', '1:21.300', '2:00.001',\n",
       "        '2:28.447', '02:57.0'],\n",
       "       ['GWIN Aaron', 'INTENSE FACTORY RACING', 'USA', '0:46.912',\n",
       "        '1:20.976', '2:00.193', '2:28.752', '02:57.0'],\n",
       "       ['THIRION R‚mi', 'GIANT FACTORY OFF - ROAD TEAM', 'FRA',\n",
       "        '0:47.909', '1:21.235', '2:00.827', '2:28.808', '02:57.0'],\n",
       "       ['REVELLI Loris', 'CANYON COLLECTIVE PIRELLI', 'ITA', '0:47.543',\n",
       "        '1:21.572', '2:00.660', '2:29.293', '02:57.0'],\n",
       "       ['CHAELET Simon', '', 'FRA', '0:47.759', '1:21.366', '2:00.786',\n",
       "        '2:29.685', '02:58.0'],\n",
       "       ['VIEIRA Roger', '', 'BRA', '0:47.577', '1:21.438', '2:00.026',\n",
       "        '2:29.163', '02:58.0'],\n",
       "       ['WILLIAMSON Greg', 'COMMENCAL / 100%', 'GBR', '0:47.480',\n",
       "        '1:21.673', '2:01.617', '2:30.070', '02:58.0'],\n",
       "       ['O CALLAGHAN Oisin', 'YT RACING DUDES', 'IRL', '0:47.354',\n",
       "        '1:21.340', '2:01.237', '2:29.612', '02:58.0'],\n",
       "       ['WALLACE Mark', 'CANYON COLLECTIVE FACTORY TEAM', 'CAN',\n",
       "        '0:47.810', '1:21.429', '2:01.158', '2:29.748', '02:59.0'],\n",
       "       ['MACDONALD Brook', 'MS MONDRAKER TEAM', 'NZL', '0:46.988',\n",
       "        '1:20.185', '2:00.594', '2:30.234', '02:59.0'],\n",
       "       ['DOOLEY Austin', 'COMMENCAL NORTH AMERICA', 'USA', '0:47.477',\n",
       "        '1:21.947', '2:01.415', '2:30.993', '02:59.0'],\n",
       "       ['ROGGE Antoine', '', 'FRA', '0:47.060', '1:22.101', '2:01.552',\n",
       "        '2:30.716', '03:00.0'],\n",
       "       ['SLACK Dan', 'SR SUNTOUR COMMENCAL BY GRAVITY', 'GBR',\n",
       "        '0:47.388', '1:21.623', '2:01.591', '2:30.696', '03:00.0'],\n",
       "       ['SILVA Dante', 'CANYON COLLECTIVE PIRELLI', 'USA', '0:47.133',\n",
       "        '1:21.267', '2:02.524', '2:32.376', '03:00.0'],\n",
       "       ['GARCIN Johan', 'VVRACING ACADEMY', 'FRA', '0:49.074',\n",
       "        '1:22.904', '2:02.469', '2:31.766', '03:01.0'],\n",
       "       ['LALY Thibault', 'PINKBIKE RACING', 'FRA', '0:48.082',\n",
       "        '1:22.150', '2:01.930', '2:31.305', '03:01.0'],\n",
       "       ['MASTERS Edward', 'PIVOT FACTORY RACING', 'NZL', '0:48.935',\n",
       "        '1:23.718', '2:02.880', '2:32.162', '03:01.0'],\n",
       "       ['GIRONDE Mael', '', 'FRA', '0:47.858', '1:22.914', '2:03.194',\n",
       "        '2:32.554', '03:01.0'],\n",
       "       ['BARANEK Rastislav', '', 'SVK', '0:48.528', '1:23.041',\n",
       "        '2:02.993', '2:32.254', '03:02.0'],\n",
       "       ['READING Jack', 'SR SUNTOUR COMMENCAL BY GRAVITY', 'GBR',\n",
       "        '0:51.154', '1:24.890', '2:06.334', '2:37.178', '03:07.0'],\n",
       "       ['EDMONDSON Jamie', 'ROCKSHOX TREK RACE TEAM', 'GBR', '0:47.074',\n",
       "        '1:27.055', '2:08.179', '2:38.636', '03:08.0'],\n",
       "       ['MAES Martin', '', 'BEL', '1:04.472', '1:38.508', '2:16.784',\n",
       "        '2:44.163', '03:12.0'],\n",
       "       ['ALAZZARI Davide', 'RRT ROGUE RACING - AFTER SKULL TEAM', 'ITA',\n",
       "        '1:06.195', '1:40.802', '2:20.699', '2:49.957', '03:19.0'],\n",
       "       ['BANDEIRA Gon‡alo', '', 'POR', '0:46.359', '1:21.297',\n",
       "        '2:24.409', '2:53.155', '03:24.0'],\n",
       "       ['MENOYO BUSQUETS au', 'COMMENCAL - SCHWALBE', 'ESP', '0:47.228',\n",
       "        '1:20.600', '2:00.486', '2:32.478', '03:25.0'],\n",
       "       ['KERR Henry', 'PROPAIN FACTORY RACING', 'IRL', '0:46.709',\n",
       "        '1:26.375', '2:04.920', '2:34.823', '03:26.0'],\n",
       "       ['HARRISON Charlie', 'TREK FACTORY RACING DH', 'USA', '0:46.186',\n",
       "        '1:46.648', '2:26.940', '2:56.576', '03:26.0'],\n",
       "       ['DAPRELA Thibaut', 'COMMENCAL/MUC-OFF BY RIDING', 'FRA',\n",
       "        '0:45.056', '1:17.761', '2:25.252', '3:08.088', '03:44.0'],\n",
       "       ['FAIRCLOUGH Brendan', 'SCOTT DOWNHILL FACTORY', 'GBR',\n",
       "        '0:52.845', '1:43.444', '2:46.689', '3:37.291', '04:15.0']],\n",
       "      dtype='<U35')"
      ]
     },
     "execution_count": 215,
     "metadata": {},
     "output_type": "execute_result"
    }
   ],
   "source": [
    "# The split time data is currently stored as a string due to it's time format (2:40.511) This will need to be converted into milliseconds for analysis\n",
    "race_data_string_22"
   ]
  },
  {
   "cell_type": "code",
   "execution_count": 216,
   "id": "c3754123",
   "metadata": {},
   "outputs": [],
   "source": [
    "# Load the columns containing the split time data into a new variable as a string\n",
    "split_times_strings = np.genfromtxt('2022 Lourdes Mens Elite Times.csv',\n",
    "                              delimiter = ',',\n",
    "                              skip_header = 1,\n",
    "                              usecols = [9,11,13,15],\n",
    "                              autostrip = True,\n",
    "                              dtype = str)\n"
   ]
  },
  {
   "cell_type": "code",
   "execution_count": 217,
   "id": "22748de7",
   "metadata": {},
   "outputs": [],
   "source": [
    "# Function that converts split time strings to milliseconds as an integer\n",
    "def string_split_to_int(value):\n",
    "    # Split the string by the seperator\n",
    "    minutes_str, seconds_str = value.split(':')\n",
    "    seconds_str, milliseconds_str = seconds_str.split('.')\n",
    "    \n",
    "    # Convert to integer\n",
    "    minutes = int(minutes_str)\n",
    "    seconds = int(seconds_str)\n",
    "    milliseconds = int(milliseconds_str)\n",
    "        \n",
    "    # Calculate the total milliseconds\n",
    "    total_milliseconds = (minutes * 60 + seconds) * 1000 + milliseconds\n",
    "\n",
    "    return(total_milliseconds) "
   ]
  },
  {
   "cell_type": "code",
   "execution_count": 218,
   "id": "de18bb20",
   "metadata": {},
   "outputs": [
    {
     "data": {
      "text/plain": [
       "(60, 4)"
      ]
     },
     "execution_count": 218,
     "metadata": {},
     "output_type": "execute_result"
    }
   ],
   "source": [
    "# Applies string_split_to_int function to all values in split_times_strings\n",
    "conversion_func = np.vectorize(string_split_to_int)\n",
    "split_times_int = np.array(conversion_func(split_times_strings))\n",
    "split_times_int.shape"
   ]
  },
  {
   "cell_type": "code",
   "execution_count": 259,
   "id": "7a8c65e1",
   "metadata": {},
   "outputs": [
    {
     "data": {
      "text/plain": [
       "array([( 1,   6, 10008827283, 1996, 60.335, 11,  1,  7,  1),\n",
       "       ( 2,  14, 10090907774, 1999, 59.081, 21,  2,  1,  2),\n",
       "       ( 3,   1, 10007544358, 1994, 58.824, 25,  4,  3,  3),\n",
       "       ( 4,   8, 10008194359, 1994, 59.081, 21,  7,  5,  6),\n",
       "       ( 5,  17, 10008813442, 1996, 61.224,  3,  6,  4,  4),\n",
       "       ( 6,   9, 10005470073, 1991, 60.067, 14, 21, 12,  7),\n",
       "       ( 7,   5, 10009563271, 1996, 60.335, 11,  9,  6,  5),\n",
       "       ( 8,   7, 10009404738, 1997, 58.127, 36,  8,  9,  8),\n",
       "       ( 9,  64, 10070590924, 2001, 57.878, 40, 14, 15,  9),\n",
       "       (10,   1, 10011016756, 1999, 61.714,  2, 15, 11, 10),\n",
       "       (11,   1, 10010038167, 1992, 61.155,  4, 23, 21, 12),\n",
       "       (12,   3, 10008723112, 1996, 59.081, 21,  3,  2, 14),\n",
       "       (13,  30, 10023896336, 2000, 58.065, 38, 34, 24, 18),\n",
       "       (14,   1, 10008831529, 1995, 58.315, 33, 19, 17, 16),\n",
       "       (15,   2, 10011213584, 1999, 59.276, 20, 11, 13, 13),\n",
       "       (16,   1, 10002818640, 1981, 58.315, 33, 13, 19, 17),\n",
       "       (17, 109, 10016018118, 1999, 58.065, 38, 27, 16, 11),\n",
       "       (18,   1, 10007713403, 1994, 58.824, 25, 22, 25, 26),\n",
       "       (19,  93, 10008728667, 1996, 56.426, 51, 48, 43, 27),\n",
       "       (20,  22, 10006413094, 1991, 58.824, 25, 20, 14, 15),\n",
       "       (21,  53, 10049212326, 2002, 60.403, 10, 30, 27, 20),\n",
       "       (22,  21, 10009187092, 1996, 58.568, 31, 32, 23, 23),\n",
       "       (23,  23, 10009897014, 1998, 57.878, 40, 24, 26, 22),\n",
       "       (24,   1, 10008586504, 1993, 56.191, 53, 33, 22, 25),\n",
       "       (25,  31, 10008831731, 1996, 59.801, 18, 12, 18, 21),\n",
       "       (26,  24, 10008103322, 1995, 60.674,  7, 10, 10, 24),\n",
       "       (27,  40, 10009453642, 1997, 60.067, 14, 38, 34, 30),\n",
       "       (28,  51, 10008848505, 1996, 58.824, 25, 39, 29, 28),\n",
       "       (29,  43, 10007656314, 1994, 60.606,  9, 17, 20, 19),\n",
       "       (30, 118, 10007714413, 1994, 61.998,  1, 25, 32, 33),\n",
       "       (31,  97, 10061876381, 2003, 58.127, 36, 28, 30, 29),\n",
       "       (32, 143, 10009562968, 1996, 59.081, 21, 41, 38, 31),\n",
       "       (33,  75, 10006516663, 1987, 60.879,  6, 29, 33, 34),\n",
       "       (34,   1, 10005415715, 1990, 58.568, 31, 52, 35, 39),\n",
       "       (35, 145, 10009443942, 1997, 60.067, 14, 46, 44, 37),\n",
       "       (36, 102, 10071553749, 2002, 61.155,  4, 49, 40, 38),\n",
       "       (37,  92, 10009164258, 1994, 57.816, 43, 47, 42, 32),\n",
       "       (38,  35, 10006909111, 1992, 58.824, 25, 45, 46, 45),\n",
       "       (39,  89, 10017486353, 2003, 56.902, 49, 42, 39, 41),\n",
       "       (40,   1, 10008172636, 1995, 58.315, 33, 50, 41, 40),\n",
       "       (41,  27, 10006429969, 1991, 59.801, 18, 31, 28, 36),\n",
       "       (42,  45, 10087908151, 2002, 56.426, 51, 44, 47, 42),\n",
       "       (43,  71, 10078163590, 2002, 57.569, 47, 35, 48, 43),\n",
       "       (44,  37, 10088103464, 2002, 57.878, 40, 43, 45, 44),\n",
       "       (45,  41, 10071893653, 2002, 58.824, 25, 37, 36, 48),\n",
       "       (46,  50, 10056657377, 2002, 57.816, 43, 56, 50, 47),\n",
       "       (47,  55, 10009533464, 1997, 60.674,  7, 53, 49, 46),\n",
       "       (48,  54, 10005560003, 1989, 60.134, 13, 55, 53, 49),\n",
       "       (49, 125, 10074421616, 2003, 55.498, 55, 51, 51, 51),\n",
       "       (50,  62, 10008169808, 1995, 57.816, 43, 54, 52, 50),\n",
       "       (51, 126, 10006576176, 1988, 56.902, 49, 57, 54, 53),\n",
       "       (52,  44, 10023865620, 2001, 57.631, 46, 36, 56, 54),\n",
       "       (53, 121, 10009453945, 1997, 60.067, 14, 59, 57, 55),\n",
       "       (54,  28, 10010022205, 1995, 56.191, 53, 60, 58, 56),\n",
       "       (55,  63, 10054661096, 2002, 54.878, 56, 18, 37, 57),\n",
       "       (56,  69, 10079233725, 2003, 30.647, 60, 40, 31, 35),\n",
       "       (57,  39, 10111341129, 2000, 48.693, 59, 26, 55, 52),\n",
       "       (58,  34, 10009645925, 1997, 57.143, 48, 16, 60, 59),\n",
       "       (59,   2, 10072798480, 2001, 52.529, 57,  5,  8, 58),\n",
       "       (60,  60, 10003642635, 1988, 49.18 , 58, 58, 59, 60)],\n",
       "      dtype=[('f0', '<i4'), ('f1', '<i4'), ('f2', '<i8'), ('f3', '<i4'), ('f4', '<f8'), ('f5', '<i4'), ('f6', '<i4'), ('f7', '<i4'), ('f8', '<i4')])"
      ]
     },
     "execution_count": 259,
     "metadata": {},
     "output_type": "execute_result"
    }
   ],
   "source": [
    "race_data_numeric_22"
   ]
  },
  {
   "cell_type": "code",
   "execution_count": 220,
   "id": "9992a78c",
   "metadata": {},
   "outputs": [
    {
     "data": {
      "text/plain": [
       "array([ 44269,  77360, 113519, 140293])"
      ]
     },
     "execution_count": 220,
     "metadata": {},
     "output_type": "execute_result"
    }
   ],
   "source": [
    "split_times_int[0,:]"
   ]
  },
  {
   "cell_type": "code",
   "execution_count": 221,
   "id": "19978f0b",
   "metadata": {},
   "outputs": [
    {
     "data": {
      "text/plain": [
       "array([[ 44269,  77360, 113519, 140293],\n",
       "       [ 44924,  76398, 113573, 140354],\n",
       "       [ 45023,  76676, 113788, 140960],\n",
       "       [ 45302,  76893, 114638, 141349],\n",
       "       [ 45223,  76795, 114231, 141860],\n",
       "       [ 46511,  78379, 114979, 142370],\n",
       "       [ 45689,  77073, 114377, 142392],\n",
       "       [ 45453,  78220, 116086, 143325],\n",
       "       [ 46027,  78853, 116199, 143371],\n",
       "       [ 46072,  78374, 116357, 143966],\n",
       "       [ 46652,  79716, 117219, 144453],\n",
       "       [ 45003,  76399, 117561, 144706],\n",
       "       [ 47053,  79796, 118072, 146002],\n",
       "       [ 46381,  79222, 117803, 145928],\n",
       "       [ 45839,  78516, 117233, 145913],\n",
       "       [ 45994,  79277, 117850, 146252],\n",
       "       [ 46739,  79186, 116962, 146290],\n",
       "       [ 46632,  79852, 118839, 146901],\n",
       "       [ 47705,  81562, 119479, 147393],\n",
       "       [ 46435,  78632, 117740, 146432],\n",
       "       [ 46984,  80048, 118301, 146836],\n",
       "       [ 46994,  79757, 118658, 146971],\n",
       "       [ 46661,  79947, 118645, 146911],\n",
       "       [ 47016,  79744, 118813, 147133],\n",
       "       [ 45933,  79227, 118417, 147941],\n",
       "       [ 45815,  78242, 118784, 147890],\n",
       "       [ 47191,  81043, 119984, 148116],\n",
       "       [ 47198,  80324, 119502, 148182],\n",
       "       [ 46284,  79309, 118299, 147924],\n",
       "       [ 46685,  80823, 120185, 148697],\n",
       "       [ 46905,  80516, 119874, 148425],\n",
       "       [ 47240,  81300, 120001, 148447],\n",
       "       [ 46912,  80976, 120193, 148752],\n",
       "       [ 47909,  81235, 120827, 148808],\n",
       "       [ 47543,  81572, 120660, 149293],\n",
       "       [ 47759,  81366, 120786, 149685],\n",
       "       [ 47577,  81438, 120026, 149163],\n",
       "       [ 47480,  81673, 121617, 150070],\n",
       "       [ 47354,  81340, 121237, 149612],\n",
       "       [ 47810,  81429, 121158, 149748],\n",
       "       [ 46988,  80185, 120594, 150234],\n",
       "       [ 47477,  81947, 121415, 150993],\n",
       "       [ 47060,  82101, 121552, 150716],\n",
       "       [ 47388,  81623, 121591, 150696],\n",
       "       [ 47133,  81267, 122524, 152376],\n",
       "       [ 49074,  82904, 122469, 151766],\n",
       "       [ 48082,  82150, 121930, 151305],\n",
       "       [ 48935,  83718, 122880, 152162],\n",
       "       [ 47858,  82914, 123194, 152554],\n",
       "       [ 48528,  83041, 122993, 152254],\n",
       "       [ 51154,  84890, 126334, 157178],\n",
       "       [ 47074,  87055, 128179, 158636],\n",
       "       [ 64472,  98508, 136784, 164163],\n",
       "       [ 66195, 100802, 140699, 169957],\n",
       "       [ 46359,  81297, 144409, 173155],\n",
       "       [ 47228,  80600, 120486, 152478],\n",
       "       [ 46709,  86375, 124920, 154823],\n",
       "       [ 46186, 106648, 146940, 176576],\n",
       "       [ 45056,  77761, 145252, 188088],\n",
       "       [ 52845, 103444, 166689, 217291]])"
      ]
     },
     "execution_count": 221,
     "metadata": {},
     "output_type": "execute_result"
    }
   ],
   "source": [
    "np.reshape(split_times_int, (60, 4))"
   ]
  },
  {
   "cell_type": "code",
   "execution_count": 252,
   "id": "f409424c",
   "metadata": {},
   "outputs": [],
   "source": [
    "array = np.array([[1,2,3],[4,5,6],[7,8,9]])"
   ]
  },
  {
   "cell_type": "code",
   "execution_count": 253,
   "id": "9329107d",
   "metadata": {},
   "outputs": [
    {
     "data": {
      "text/plain": [
       "array([[1, 2, 3],\n",
       "       [4, 5, 6],\n",
       "       [7, 8, 9]])"
      ]
     },
     "execution_count": 253,
     "metadata": {},
     "output_type": "execute_result"
    }
   ],
   "source": [
    "array"
   ]
  },
  {
   "cell_type": "code",
   "execution_count": 257,
   "id": "be7362e2",
   "metadata": {},
   "outputs": [],
   "source": [
    "array = np.append(array, ([1],[1],[1]) )"
   ]
  },
  {
   "cell_type": "code",
   "execution_count": 258,
   "id": "e486bebf",
   "metadata": {},
   "outputs": [
    {
     "data": {
      "text/plain": [
       "array([1, 2, 3, 4, 5, 6, 7, 8, 9, 1, 1, 1])"
      ]
     },
     "execution_count": 258,
     "metadata": {},
     "output_type": "execute_result"
    }
   ],
   "source": [
    "array"
   ]
  },
  {
   "cell_type": "code",
   "execution_count": 7,
   "id": "6e9427fe",
   "metadata": {},
   "outputs": [],
   "source": [
    "race_times_raw_data = pd.read_csv('2022 Lourdes Mens Elite Times.csv', encoding='windows-1252')"
   ]
  },
  {
   "cell_type": "code",
   "execution_count": 5,
   "id": "3cd6ec36",
   "metadata": {},
   "outputs": [
    {
     "name": "stdout",
     "output_type": "stream",
     "text": [
      "Windows-1252\n"
     ]
    }
   ],
   "source": [
    "with open('2022 Lourdes Mens Elite Times.csv', 'rb') as file:\n",
    "    result = chardet.detect(file.read())\n",
    "    \n",
    "print(result['encoding'])"
   ]
  },
  {
   "cell_type": "code",
   "execution_count": null,
   "id": "a583d8cc",
   "metadata": {},
   "outputs": [],
   "source": []
  },
  {
   "cell_type": "code",
   "execution_count": null,
   "id": "6183e59e",
   "metadata": {},
   "outputs": [],
   "source": []
  },
  {
   "cell_type": "code",
   "execution_count": null,
   "id": "42249c87",
   "metadata": {},
   "outputs": [],
   "source": []
  },
  {
   "cell_type": "code",
   "execution_count": null,
   "id": "17c67919",
   "metadata": {},
   "outputs": [],
   "source": []
  },
  {
   "cell_type": "code",
   "execution_count": null,
   "id": "1217cb99",
   "metadata": {},
   "outputs": [],
   "source": []
  },
  {
   "cell_type": "code",
   "execution_count": null,
   "id": "0b6ed2f9",
   "metadata": {},
   "outputs": [],
   "source": []
  }
 ],
 "metadata": {
  "kernelspec": {
   "display_name": "Python 3 (ipykernel)",
   "language": "python",
   "name": "python3"
  },
  "language_info": {
   "codemirror_mode": {
    "name": "ipython",
    "version": 3
   },
   "file_extension": ".py",
   "mimetype": "text/x-python",
   "name": "python",
   "nbconvert_exporter": "python",
   "pygments_lexer": "ipython3",
   "version": "3.10.9"
  }
 },
 "nbformat": 4,
 "nbformat_minor": 5
}
